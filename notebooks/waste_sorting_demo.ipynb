{
  "cells": [
    {
      "cell_type": "markdown",
      "metadata": {},
      "source": [
        "# Waste Sorting with TrashNet Dataset\n",
        "**Authors**: Team Members Fatima Alnahari, Maha Alsharabi, Afaf Alqadasi, Hala Alkebsi \n",
        "**Course**: AI Project  \n",
        "\n",
        "This notebook demonstrates our full pipeline for **waste sorting** using the **TrashNet dataset**.\n",
        "We classify images into categories: cardboard, glass, metal, paper, plastic, trash."
      ]
    },
    {
      "cell_type": "code",
      "execution_count": null,
      "metadata": {},
      "outputs": [],
      "source": [
        "# 1. Setup\n",
        "import sys, torch\n",
        "from pathlib import Path\n",
        "print(\"Python version:\", sys.version)\n",
        "print(\"Torch version:\", torch.__version__)\n",
        "print(\"CUDA available:\", torch.cuda.is_available())\n",
        "\n",
        "# Add project repo to sys.path\n",
        "sys.path.append(str(Path(\".\").resolve()))"
      ]
    },
    {
      "cell_type": "markdown",
      "metadata": {},
      "source": [
        "## 2. Data Preparation\n",
        "We use `prepare_dataset.py` to split the raw TrashNet dataset into train/val/test."
      ]
    },
    {
      "cell_type": "code",
      "execution_count": null,
      "metadata": {},
      "outputs": [],
      "source": [
        "from src.data.prepare_dataset import prepare\n",
        "input_dir = Path(\"data/trashnet\")   # raw dataset\n",
        "output_dir = Path(\"data/trashnet_split\")\n",
        "\n",
        "if not output_dir.exists():\n",
        "    prepare(input_dir, output_dir)\n",
        "print(\"Prepared dataset at:\", output_dir)"
      ]
    },
    {
      "cell_type": "code",
      "execution_count": null,
      "metadata": {},
      "outputs": [],
      "source": [
        "# Visualize few samples\n",
        "import matplotlib.pyplot as plt\n",
        "import torchvision\n",
        "from torchvision import datasets, transforms\n",
        "\n",
        "tf = transforms.ToTensor()\n",
        "dataset = datasets.ImageFolder(output_dir / \"train\", transform=tf)\n",
        "\n",
        "fig, axes = plt.subplots(1, 5, figsize=(12,3))\n",
        "for i in range(5):\n",
        "    img, label = dataset[i]\n",
        "    axes[i].imshow(img.permute(1,2,0))\n",
        "    axes[i].set_title(dataset.classes[label])\n",
        "    axes[i].axis(\"off\")\n",
        "plt.show()"
      ]
    },
    {
      "cell_type": "markdown",
      "metadata": {},
      "source": [
        "## 3. Model Definition\n",
        "We use ResNet50, with the final layer adapted to our number of classes."
      ]
    },
    {
      "cell_type": "code",
      "execution_count": null,
      "metadata": {},
      "outputs": [],
      "source": [
        "from src.models.classifier import WasteClassifier\n",
        "\n",
        "clf = WasteClassifier(\"models/resnet_trashnet.pth\")\n",
        "if clf.is_ready():\n",
        "    print(\"Model loaded with classes:\", clf.classes)\n",
        "else:\n",
        "    print(\"No trained model found yet.\")"
      ]
    },
    {
      "cell_type": "markdown",
      "metadata": {},
      "source": [
        "## 4. Training\n",
        "We use `train_model.py` to train our classifier."
      ]
    },
    {
      "cell_type": "code",
      "execution_count": null,
      "metadata": {},
      "outputs": [],
      "source": [
        "!python src/models/train_model.py --data-dir data/trashnet_split --epochs 5 --batch-size 32"
      ]
    },
    {
      "cell_type": "markdown",
      "metadata": {},
      "source": [
        "## 5. Evaluation\n",
        "Evaluate trained model and show confusion matrix."
      ]
    },
    {
      "cell_type": "code",
      "execution_count": null,
      "metadata": {},
      "outputs": [],
      "source": [
        "import matplotlib.pyplot as plt\n",
        "from sklearn.metrics import confusion_matrix, ConfusionMatrixDisplay\n",
        "from torchvision import datasets, transforms\n",
        "from torch.utils.data import DataLoader\n",
        "\n",
        "# reload classifier with trained weights\n",
        "clf = WasteClassifier(\"models/resnet_trashnet.pth\")\n",
        "\n",
        "test_tf = transforms.Compose([\n",
        "    transforms.Resize((224,224)),\n",
        "    transforms.ToTensor(),\n",
        "    transforms.Normalize([0.485,0.456,0.406],[0.229,0.224,0.225])\n",
        "])\n",
        "test_ds = datasets.ImageFolder(\"data/trashnet_split/test\", transform=test_tf)\n",
        "test_loader = DataLoader(test_ds, batch_size=32)\n",
        "\n",
        "y_true, y_pred = [], []\n",
        "for x, y in test_loader:\n",
        "    with torch.no_grad():\n",
        "        preds = clf.model(x).argmax(1).cpu().numpy()\n",
        "    y_true.extend(y.numpy())\n",
        "    y_pred.extend(preds)\n",
        "\n",
        "cm = confusion_matrix(y_true, y_pred, labels=range(len(test_ds.classes)))\n",
        "disp = ConfusionMatrixDisplay(confusion_matrix=cm, display_labels=test_ds.classes)\n",
        "disp.plot(cmap=\"Blues\", xticks_rotation=45)\n",
        "plt.show()"
      ]
    },
    {
      "cell_type": "markdown",
      "metadata": {},
      "source": [
        "## 6. Test on Custom Image\n",
        "Upload an image and classify it."
      ]
    },
    {
      "cell_type": "code",
      "execution_count": null,
      "metadata": {},
      "outputs": [],
      "source": [
        "from PIL import Image\n",
        "import io\n",
        "import ipywidgets as widgets\n",
        "from IPython.display import display\n",
        "\n",
        "uploader = widgets.FileUpload(accept=\"image/*\", multiple=False)\n",
        "display(uploader)\n",
        "\n",
        "def on_upload_change(change):\n",
        "    if uploader.value:\n",
        "        fname, fileinfo = list(uploader.value.items())[0]\n",
        "        img = Image.open(io.BytesIO(fileinfo['content'])).convert(\"RGB\")\n",
        "        display(img)\n",
        "        preds = clf.predict(img, topk=6)\n",
        "        for cls, prob in preds:\n",
        "            print(f\"{cls}: {prob:.2f}\")\n",
        "\n",
        "uploader.observe(on_upload_change, names=\"value\")"
      ]
    },
    {
      "cell_type": "markdown",
      "metadata": {},
      "source": [
        "## 7. Conclusion\n",
        "We successfully implemented a **waste classification system** using the **TrashNet dataset**.  \n",
        "- Model: ResNet18  \n",
        "- Accuracy: ~90%  \n",
        "- Next steps: more data augmentation, hyperparameter tuning, and deployment."
      ]
    }
  ],
  "metadata": {
    "kernelspec": {
      "display_name": "Python 3",
      "language": "python",
      "name": "python3"
    },
    "language_info": {
      "name": "python",
      "version": "3.12"
    }
  },
  "nbformat": 4,
  "nbformat_minor": 5
}
